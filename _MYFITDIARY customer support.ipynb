{
 "cells": [
  {
   "cell_type": "code",
   "execution_count": 3,
   "id": "784c0b9a",
   "metadata": {},
   "outputs": [],
   "source": [
    "import cohere  \n",
    "co = cohere.Client(\"P34Fcje80hYPoSdhRNVu46zxcZZCaE9KFlMQWZxR\")"
   ]
  },
  {
   "cell_type": "code",
   "execution_count": 9,
   "id": "994ce940",
   "metadata": {},
   "outputs": [],
   "source": [
    "from cohere.classify import Example\n",
    "\n",
    "examples=[\n",
    "  Example(\"How can I cancel my monthly subscription?\",\"Account Query\"),\n",
    "  Example(\"How do I change my billing information?\",\"Account Query\"),\n",
    "  Example(\"What are the available workout plans on your website?\",\"Account Query\"),\n",
    "  Example(\"Are there any discounts or promotions currently available?\",\"Account Query\"),\n",
    "  Example(\"How can I track my progress and set goals for my fitness journey?\",\"fitness\"),\n",
    "  Example(\"How can I find the right exercise plan for my fitness level and goals?\",\"fitness\"),\n",
    "  Example(\"What are the best ways to prevent injury while working out?\",\"fitness\"),\n",
    "  Example(\"How can I incorporate strength training into my fitness routine?\",\"fitness\")\n",
    "]"
   ]
  },
  {
   "cell_type": "code",
   "execution_count": 13,
   "id": "22233552",
   "metadata": {},
   "outputs": [],
   "source": [
    "# inputs=['I want to plan diet',\n",
    "#         \"How to plan right diet\"\n",
    "#         ]"
   ]
  },
  {
   "cell_type": "code",
   "execution_count": 15,
   "id": "bd3c5c80",
   "metadata": {},
   "outputs": [
    {
     "name": "stdout",
     "output_type": "stream",
     "text": [
      "[Classification<prediction: \"fitness\", confidence: 0.6199054, labels: {'Account Query': LabelPrediction(confidence=0.3800946), 'fitness': LabelPrediction(confidence=0.6199054)}>, Classification<prediction: \"fitness\", confidence: 0.95154244, labels: {'Account Query': LabelPrediction(confidence=0.04845759), 'fitness': LabelPrediction(confidence=0.95154244)}>]\n"
     ]
    }
   ],
   "source": [
    "response = co.classify(  \n",
    "    model='large',  \n",
    "    inputs=inputs,  \n",
    "    examples=examples)\n",
    "\n",
    "print(response.classifications)"
   ]
  },
  {
   "cell_type": "code",
   "execution_count": 17,
   "id": "acec00c6",
   "metadata": {},
   "outputs": [
    {
     "name": "stdout",
     "output_type": "stream",
     "text": [
      "Connecting to wss://anvil.works/uplink\n",
      "Anvil websocket open\n",
      "Connected to \"Default environment\" as SERVER\n"
     ]
    }
   ],
   "source": [
    "import anvil.server\n",
    "\n",
    "anvil.server.connect(\"OLTHRAXJME3MLGQIH43MGURD-2QB5YZ3GOACLZSJ6\")"
   ]
  },
  {
   "cell_type": "code",
   "execution_count": null,
   "id": "cb7ceb07",
   "metadata": {},
   "outputs": [],
   "source": [
    "@anvil.server.callable\n",
    "def inputss(inputs):\n",
    "    with anvil.text.\n",
    "    response = co.classify(  \n",
    "        model='large',  \n",
    "        inputs=inputs,  \n",
    "        examples=examples)\n",
    "\n",
    "    print(response.classifications)"
   ]
  }
 ],
 "metadata": {
  "kernelspec": {
   "display_name": "Python 3",
   "language": "python",
   "name": "python3"
  },
  "language_info": {
   "codemirror_mode": {
    "name": "ipython",
    "version": 3
   },
   "file_extension": ".py",
   "mimetype": "text/x-python",
   "name": "python",
   "nbconvert_exporter": "python",
   "pygments_lexer": "ipython3",
   "version": "3.8.8"
  }
 },
 "nbformat": 4,
 "nbformat_minor": 5
}
